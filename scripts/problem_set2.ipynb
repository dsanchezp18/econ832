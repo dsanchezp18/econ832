{
 "cells": [
  {
   "cell_type": "markdown",
   "metadata": {},
   "source": [
    "# Problem Set II\n",
    "\n",
    "## Part 1: Simulation with Metropolis-Hastings and Comparison\n",
    "\n",
    "*Task*: Simulate a normal (Gaussian) distribution using the Metropolis-Hastings algorithm, targeting a mean ($\\mu$) of 0 and variance ($\\sigma^2$) of 1.\n",
    "\n",
    "*Approach*: Implement the Metropolis-Hastings algorithm within the framework provided by the `Elvis_simple.jl` file."
   ]
  },
  {
   "cell_type": "markdown",
   "metadata": {},
   "source": [
    "## Solution\n",
    "\n",
    "The Metropolis-Hastings algorithm performs a sampling from a target distribution $\\pi$ by generating a Markov chain with a stationary distribution of $\\pi$. "
   ]
  },
  {
   "cell_type": "code",
   "execution_count": 5,
   "metadata": {},
   "outputs": [
    {
     "data": {
      "text/plain": [
       "10000-element Vector{Float64}:\n",
       "  0.0\n",
       "  0.5873195095829089\n",
       "  0.16749312472661887\n",
       "  0.16749312472661887\n",
       "  0.32546193893748576\n",
       "  0.8897561464384733\n",
       " -0.26505973614525846\n",
       " -0.9684401243114704\n",
       " -0.5756956756728372\n",
       "  0.3901469391342114\n",
       "  ⋮\n",
       "  0.27255231255559015\n",
       "  0.24571730823744875\n",
       "  0.7965818969114399\n",
       "  1.2762514343366087\n",
       "  1.8755976522026763\n",
       "  1.5730017144713733\n",
       "  1.5730017144713733\n",
       "  1.5735443075331503\n",
       "  1.6725976556719988"
      ]
     },
     "metadata": {},
     "output_type": "display_data"
    }
   ],
   "source": [
    "using Distributions\n",
    "using Random\n",
    "\n",
    "function metropolis_hastings(n_samples::Int)\n",
    "    # Initialize the chain\n",
    "    chain = zeros(n_samples)\n",
    "    current = randn()  # Start at a random place\n",
    "\n",
    "    # Target distribution\n",
    "    target = Normal(0, 1)\n",
    "\n",
    "    for i in 2:n_samples\n",
    "        proposal = current + randn()  # Add some noise\n",
    "\n",
    "        # Calculate acceptance probability\n",
    "        p_accept = min(1, pdf(target, proposal) / pdf(target, current))\n",
    "\n",
    "        # Accept or reject\n",
    "        if rand() < p_accept\n",
    "            current = proposal\n",
    "        end\n",
    "\n",
    "        chain[i] = current\n",
    "    end\n",
    "\n",
    "    return chain\n",
    "end\n",
    "\n",
    "# Generate 10,000 samples\n",
    "samples = metropolis_hastings(10000)"
   ]
  },
  {
   "cell_type": "code",
   "execution_count": 6,
   "metadata": {},
   "outputs": [
    {
     "name": "stderr",
     "output_type": "stream",
     "text": [
      "\u001b[32m\u001b[1m    Updating\u001b[22m\u001b[39m registry at `C:\\Users\\user\\.julia\\registries\\General.toml`\n"
     ]
    },
    {
     "name": "stderr",
     "output_type": "stream",
     "text": [
      "\u001b[32m\u001b[1m   Resolving\u001b[22m\u001b[39m package versions...\n"
     ]
    },
    {
     "name": "stderr",
     "output_type": "stream",
     "text": [
      "\u001b[32m\u001b[1m  No Changes\u001b[22m\u001b[39m to `C:\\Users\\user\\.julia\\environments\\v1.10\\Project.toml`\n",
      "\u001b[32m\u001b[1m  No Changes\u001b[22m\u001b[39m to `C:\\Users\\user\\.julia\\environments\\v1.10\\Manifest.toml`\n"
     ]
    },
    {
     "name": "stderr",
     "output_type": "stream",
     "text": [
      "\u001b[32m\u001b[1mPrecompiling\u001b[22m\u001b[39m project..."
     ]
    },
    {
     "name": "stderr",
     "output_type": "stream",
     "text": [
      "\n"
     ]
    },
    {
     "name": "stderr",
     "output_type": "stream",
     "text": [
      "\u001b[91m  ✗ \u001b[39m\u001b[90mPlots → IJuliaExt\u001b[39m\n",
      "  0 dependencies successfully precompiled in 32 seconds. 182 already precompiled. 10 skipped during auto due to previous errors.\n"
     ]
    }
   ],
   "source": []
  }
 ],
 "metadata": {
  "kernelspec": {
   "display_name": "Julia 1.10.0",
   "language": "julia",
   "name": "julia-1.10"
  },
  "language_info": {
   "file_extension": ".jl",
   "mimetype": "application/julia",
   "name": "julia",
   "version": "1.10.0"
  }
 },
 "nbformat": 4,
 "nbformat_minor": 2
}
