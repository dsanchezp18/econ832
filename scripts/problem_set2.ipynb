{
 "cells": [
  {
   "cell_type": "markdown",
   "metadata": {},
   "source": [
    "# Problem Set II\n",
    "\n",
    "## Part 1: Simulation with Metropolis-Hastings and Comparison\n",
    "\n",
    "*Task*: Simulate a normal (Gaussian) distribution using the Metropolis-Hastings algorithm, targeting a mean ($\\mu$) of 0 and variance ($\\sigma^2$) of 1.\n",
    "\n",
    "*Approach*: Implement the Metropolis-Hastings algorithm within the framework provided by the `Elvis_simple.jl` file. \n",
    "\n",
    "- *Acceptance Criterion*: Define the acceptance criterion based on the ratio of the target distribution probabilities and the proposal distribution probabilities."
   ]
  },
  {
   "cell_type": "markdown",
   "metadata": {},
   "source": [
    "## Solution\n",
    "\n",
    "The Metropolis-Hastings algorithm performs a sampling from a target distribution $\\pi$ by generating a Markov chain with a stationary distribution of $\\pi$. \n",
    "\n",
    "My solution is based on a proposal distribution with mean 0 and variance 2, as seen below. I run the solution 10,000 times. "
   ]
  },
  {
   "cell_type": "markdown",
   "metadata": {},
   "source": [
    "### Defining the proposal distribution\n",
    "\n",
    "The code in Julia below defines the proposal distribution based on a normal distribution with mean 0 and variance 2. "
   ]
  },
  {
   "cell_type": "code",
   "execution_count": 6,
   "metadata": {},
   "outputs": [
    {
     "data": {
      "text/plain": [
       "10000-element Vector{Float64}:\n",
       "  0.0\n",
       " -0.27050956718943997\n",
       " -0.27050956718943997\n",
       "  0.5270242262810523\n",
       " -0.3271679389888328\n",
       " -0.4602537958927408\n",
       " -1.117144304863027\n",
       " -1.117144304863027\n",
       " -0.9960084673457726\n",
       " -2.802825281310845\n",
       "  ⋮\n",
       "  1.347466211741899\n",
       " -0.9294086016090137\n",
       "  0.4115016935439757\n",
       " -0.5701828661720387\n",
       " -1.9976579554970364\n",
       " -1.9976579554970364\n",
       " -2.173455700072742\n",
       " -1.6354056160802604\n",
       " -1.7433785488488265"
      ]
     },
     "metadata": {},
     "output_type": "display_data"
    }
   ],
   "source": [
    "using Distributions\n",
    "using Random\n",
    "\n",
    "function metropolis_hastings(n_samples::Int)\n",
    "    # Initialize the chain\n",
    "    chain = zeros(n_samples)\n",
    "    current = randn()  # Start at a random place\n",
    "\n",
    "    # Target distribution\n",
    "    target = Normal(0, 2)\n",
    "\n",
    "    for i in 2:n_samples\n",
    "        proposal = current + randn()  # Add some noise\n",
    "\n",
    "        # Calculate acceptance probability\n",
    "        p_accept = min(1, pdf(target, proposal) / pdf(target, current))\n",
    "\n",
    "        # Accept or reject\n",
    "        if rand() < p_accept\n",
    "            current = proposal\n",
    "        end\n",
    "\n",
    "        chain[i] = current\n",
    "    end\n",
    "\n",
    "    return chain\n",
    "end\n",
    "\n",
    "# Generate 10,000 samples\n",
    "samples = metropolis_hastings(10000)"
   ]
  },
  {
   "cell_type": "markdown",
   "metadata": {},
   "source": [
    "I plot the proposal distribution below to see how \"normal\" it looks. Unfortunately, I was unable to install the `Plots` package in Julia, but I used the amazing `Tider.jl` package to plot the data using the Julia implementation of *ggplot2*.\n"
   ]
  },
  {
   "cell_type": "code",
   "execution_count": 7,
   "metadata": {},
   "outputs": [
    {
     "ename": "LoadError",
     "evalue": "LoadError: UndefVarError: `@ggplot` not defined\nin expression starting at c:\\Users\\user\\Documents\\GitHub\\econ832\\scripts\\problem_set2.ipynb:3",
     "output_type": "error",
     "traceback": [
      "LoadError: UndefVarError: `@ggplot` not defined\n",
      "in expression starting at c:\\Users\\user\\Documents\\GitHub\\econ832\\scripts\\problem_set2.ipynb:3\n"
     ]
    }
   ],
   "source": [
    "using Tidier\n",
    "\n",
    "@ggplot(data = DataFrame(x = samples)) +\n",
    "    @geom_histogram()"
   ]
  },
  {
   "cell_type": "code",
   "execution_count": 10,
   "metadata": {},
   "outputs": [
    {
     "name": "stdout",
     "output_type": "stream",
     "text": [
      "This program has requested access to the data dependency PalmerPenguins.\n",
      "which is not currently installed. It can be installed automatically, and you will not see this message again.\n",
      "\n",
      "Dataset: The Palmer penguins dataset\n",
      "Authors: Allison Horst, Alison Hill, Kristen Gorman\n",
      "Website: https://allisonhorst.github.io/palmerpenguins/index.html\n",
      "\n",
      "The Palmer penguins dataset is a dataset for data exploration & visualization, as an\n",
      "alternative to the Iris dataset.\n",
      "\n",
      "The dataset contains data for 344 penguins. There are 3 different species of penguins in\n",
      "this dataset, collected from 3 islands in the Palmer Archipelago, Antarctica.\n",
      "\n",
      "Data were collected and made available by\n",
      "[Dr. Kristen Gorman](https://www.uaf.edu/cfos/people/faculty/detail/kristen-gorman.php)\n",
      "and the [Palmer Station, Antarctica LTER](https://pal.lternet.edu/), a member of the\n",
      "[Long Term Ecological Research Network](https://lternet.edu/).\n",
      "\n",
      "Data are available by\n",
      "[CC-0](https://creativecommons.org/share-your-work/public-domain/cc0/) license in\n",
      "accordance with the [Palmer Station LTER Data Policy](http://pal.lternet.edu/data/policies)\n",
      "and the\n",
      "[LTER Data Access Policy for Type I data](https://lternet.edu/data-access-policy/).\n",
      "\n",
      "Please include this citation if you plan to use this database:\n",
      "[Gorman et al., 2014]\n",
      "    Gorman KB, Williams TD, Fraser WR (2014) Ecological Sexual Dimorphism and Environmental\n",
      "    Variability within a Community of Antarctic Penguins (Genus Pygoscelis). PLoS ONE 9(3):\n",
      "    e90081. https://doi.org/10.1371/journal.pone.0090081\n",
      "\n",
      "\n",
      "\n",
      "Do you want to download the dataset from [\"https://cdn.jsdelivr.net/gh/allisonhorst/palmerpenguins@433439c8b013eff3d36c847bb7a27fa0d7e353d8/inst/extdata/penguins.csv\", \"https://cdn.jsdelivr.net/gh/allisonhorst/palmerpenguins@433439c8b013eff3d36c847bb7a27fa0d7e353d8/inst/extdata/penguins_raw.csv\"] to \"C:\\Users\\user\\.julia\\scratchspaces\\124859b0-ceae-595e-8997-d05f6a7a8dfe\\datadeps\\PalmerPenguins\"?\n",
      "[y/n]\n"
     ]
    },
    {
     "ename": "UndefVarError",
     "evalue": "UndefVarError: `execute_msg` not defined",
     "output_type": "error",
     "traceback": [
      "UndefVarError: `execute_msg` not defined\n",
      "\n",
      "Stacktrace:\n",
      "  [1] readprompt(prompt::String; password::Bool)\n",
      "    @ VSCodeServer.IJuliaCore c:\\Users\\user\\.vscode\\extensions\\julialang.language-julia-1.66.2\\scripts\\packages\\IJuliaCore\\src\\stdio.jl:190\n",
      "  [2] readprompt\n",
      "    @ c:\\Users\\user\\.vscode\\extensions\\julialang.language-julia-1.66.2\\scripts\\packages\\IJuliaCore\\src\\stdio.jl:188 [inlined]\n",
      "  [3] readline(io::VSCodeServer.IJuliaCore.IJuliaStdio{Base.PipeEndpoint, typeof(VSCodeServer.io_send_callback)})\n",
      "    @ VSCodeServer.IJuliaCore c:\\Users\\user\\.vscode\\extensions\\julialang.language-julia-1.66.2\\scripts\\packages\\IJuliaCore\\src\\stdio.jl:232\n",
      "  [4] better_readline(stream::VSCodeServer.IJuliaCore.IJuliaStdio{Base.PipeEndpoint, typeof(VSCodeServer.io_send_callback)})\n",
      "    @ DataDeps C:\\Users\\user\\.julia\\packages\\DataDeps\\ooLjp\\src\\util.jl:60\n",
      "  [5] better_readline()\n",
      "    @ DataDeps C:\\Users\\user\\.julia\\packages\\DataDeps\\ooLjp\\src\\util.jl:55\n",
      "  [6] input_choice(::String, ::Char, ::Vararg{Char})\n",
      "    @ DataDeps C:\\Users\\user\\.julia\\packages\\DataDeps\\ooLjp\\src\\util.jl:82\n",
      "  [7] input_bool\n",
      "    @ C:\\Users\\user\\.julia\\packages\\DataDeps\\ooLjp\\src\\util.jl:70 [inlined]\n",
      "  [8] check_if_accept_terms(datadep::DataDeps.DataDep, localpath::String, remotepath::Vector{String})\n",
      "    @ DataDeps C:\\Users\\user\\.julia\\packages\\DataDeps\\ooLjp\\src\\resolution_automatic.jl:180\n",
      "  [9] accept_terms\n",
      "    @ C:\\Users\\user\\.julia\\packages\\DataDeps\\ooLjp\\src\\resolution_automatic.jl:163 [inlined]\n",
      " [10] download(datadep::DataDeps.DataDep, localdir::String; remotepath::Vector{String}, i_accept_the_terms_of_use::Nothing, skip_checksum::Bool)\n",
      "    @ DataDeps C:\\Users\\user\\.julia\\packages\\DataDeps\\ooLjp\\src\\resolution_automatic.jl:72\n",
      " [11] download(datadep::DataDeps.DataDep, localdir::String)\n",
      "    @ DataDeps C:\\Users\\user\\.julia\\packages\\DataDeps\\ooLjp\\src\\resolution_automatic.jl:63\n",
      " [12] handle_missing\n",
      "    @ C:\\Users\\user\\.julia\\packages\\DataDeps\\ooLjp\\src\\resolution_automatic.jl:10 [inlined]\n",
      " [13] _resolve\n",
      "    @ C:\\Users\\user\\.julia\\packages\\DataDeps\\ooLjp\\src\\resolution.jl:83 [inlined]\n",
      " [14] resolve(datadep::DataDeps.DataDep, inner_filepath::String, calling_filepath::String)\n",
      "    @ DataDeps C:\\Users\\user\\.julia\\packages\\DataDeps\\ooLjp\\src\\resolution.jl:29\n",
      " [15] resolve(datadep_name::String, inner_filepath::String, calling_filepath::String)\n",
      "    @ DataDeps C:\\Users\\user\\.julia\\packages\\DataDeps\\ooLjp\\src\\resolution.jl:54\n",
      " [16] resolve(datadep_name::String, inner_filepath::String, calling_filepath::String)\n",
      "    @ DataDeps C:\\Users\\user\\.julia\\packages\\DataDeps\\ooLjp\\src\\resolution.jl:73 [inlined]\n",
      " [17] load(; raw::Bool)\n",
      "    @ PalmerPenguins C:\\Users\\user\\.julia\\packages\\PalmerPenguins\\urNoN\\src\\PalmerPenguins.jl:54\n",
      " [18] load()\n",
      "    @ PalmerPenguins C:\\Users\\user\\.julia\\packages\\PalmerPenguins\\urNoN\\src\\PalmerPenguins.jl:53\n",
      " [19] top-level scope\n",
      "    @ c:\\Users\\user\\Documents\\GitHub\\econ832\\scripts\\problem_set2.ipynb:5"
     ]
    }
   ],
   "source": [
    "using Tidier\n",
    "using DataFrames\n",
    "using PalmerPenguins\n",
    "\n",
    "penguins = dropmissing(DataFrame(PalmerPenguins.load()))\n",
    "\n",
    "@ggplot(data = penguins) + \n",
    "    @geom_bar(aes(x = species)) +\n",
    "    @labs(x = \"Species\")"
   ]
  }
 ],
 "metadata": {
  "kernelspec": {
   "display_name": "Julia 1.10.0",
   "language": "julia",
   "name": "julia-1.10"
  },
  "language_info": {
   "file_extension": ".jl",
   "mimetype": "application/julia",
   "name": "julia",
   "version": "1.10.0"
  }
 },
 "nbformat": 4,
 "nbformat_minor": 2
}
