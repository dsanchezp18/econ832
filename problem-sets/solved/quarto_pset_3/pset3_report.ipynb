{
  "cells": [
    {
      "cell_type": "raw",
      "metadata": {},
      "source": [
        "---\n",
        "title: \"ECON832 Assignment 3 (Corrected): Report\"\n",
        "date: \"2024-03-08\"\n",
        "date-format: \"MMM DD, YYYY\"\n",
        "format: pdf\n",
        "header-includes:\n",
        "    - \\usepackage{float}\n",
        "---"
      ],
      "id": "640a85aa"
    },
    {
      "cell_type": "code",
      "metadata": {},
      "source": [
        "#| label: setup\n",
        "#| output: false\n",
        "using CSV\n",
        "using DataFrames\n",
        "using Plots\n",
        "using Tidier\n",
        "using Distributed\n",
        "using Optim\n",
        "using PrettyTables"
      ],
      "id": "setup",
      "execution_count": null,
      "outputs": []
    },
    {
      "cell_type": "markdown",
      "metadata": {},
      "source": [
        "# Problem 1: Replicating RULC\n",
        "\n",
        "I replicate the RULC paper by modifying the utility function, specifically, using the CRRA utility function with a risk aversion parameters $\\sigma$ from [-1, 1]. Considering the lotteries in the paper, I compute utilities as per the CRRA utility function for the given risk aversion parameters, and then produce the theoretical rankings that should be expected according to this utility function. \n",
        "\n",
        "This can be seen below.\n"
      ],
      "id": "4d104cfb"
    },
    {
      "cell_type": "code",
      "metadata": {
        "results": "asis"
      },
      "source": [
        "#| label: new-rankings\n",
        "#| echo: false\n",
        "#| output: true\n",
        "\n",
        "# Load the data from the working directory\n",
        "\n",
        "rankings = CSV.read(\"C:/Users/user/Documents/GitHub/econ832/problem-sets/solved/quarto_pset_3/lotteries_with_utilities.csv\", DataFrame)\n",
        "\n",
        "# Select only the columns that are relevant for the CRRA utility function with sigma -1 to 1\n",
        "# Do so with the Tidier syntax\n",
        "\n",
        "modified_rankings = \n",
        "    @chain rankings begin\n",
        "        @select(Lottery, Ranking, `Ranking_0.25`, `Ranking_0.27`, `Ranking_0.28`, `Ranking_1.0`)\n",
        "        @rename(`Ranking_-1.0` = Ranking)\n",
        "    end\n",
        "\n",
        "# Present the table\n",
        "\n",
        "pretty_table(modified_rankings, title = \"Modified Rankings\")"
      ],
      "id": "new-rankings",
      "execution_count": null,
      "outputs": []
    },
    {
      "cell_type": "markdown",
      "metadata": {},
      "source": [
        "This was incorporated in the preference matrix `U` in the replication code, `testing_stable.jl`, in order to test whether RUM and the logit attention model explain the observed rankings in the experiment. Below, I include the computed t-statistics for both tests.\n",
        "\n",
        "\\begin{table}[h]\n",
        "\\centering\n",
        "\\begin{tabular}{|c|c|c|}\n",
        "\\hline\n",
        "\\textbf{Hypothesis} & \\textbf{Test statistics} & \\textbf{$p$-value} \\\\\n",
        "\\hline\n",
        "Value 1 & 54097.478383737005 & 0.0 \\\\ \n",
        "Value 4 & 24959.0560261779 & 0.524 \\\\\n",
        "\\hline\n",
        "\\end{tabular}\n",
        "\\caption{Test statistics for the RUM and logit attention model under modified nulls}\n",
        "\\label{tab:table1_test_statistics}\n",
        "\\end{table}\n",
        "\n",
        "As it can be seen, the RUM model is rejected at the 1% level, while the logit attention model is not rejected at the 5% level. Under the modified rankings because of the CRRA utility function with other $\\sigma$ parameters, the RUM model is not able to explain the observed rankings in the experiment.\n",
        "\n",
        "## Bootstrap distributions\n",
        "\n",
        "I also show the computed bootstrap distributions for the RUM and logit attention model tests, as calculated in the replication code for the paper.\n",
        "\n",
        "\\begin{figure}[H]\n",
        "\\centering\n",
        "\\includegraphics[width = 0.7\\textwidth]{C:/Users/user/Documents/GitHub/econ832/problem-sets/pset3_rulc_replication/main/results/Bootstrap_RUM_stable.png}\n",
        "\\caption{Bootstrap distributions for the RUM and logit attention model tests}\n",
        "\\label{fig:bootstrap_distributions}\n",
        "\\end{figure}\n",
        "\n",
        "# Problem 2: Bootstrap Standard Errors of the Supply and Demand Model\n",
        "\n",
        "In this problem, we are interested in estimating the standard errors of the $\\beta$ coefficient in the supply and demand model using the bootstrap method. I estimated the true elasticity of demand, $b$, by performing 2SLS estimation through an `Ipopt` optimizer in Problem Set 1. \n"
      ],
      "id": "7bd3bfba"
    },
    {
      "cell_type": "code",
      "metadata": {},
      "source": [
        "#| label: 2sls-solution\n",
        "#| output: false\n",
        "include(\"../problem_set_1_supply_and_demand.jl\")"
      ],
      "id": "sls-solution",
      "execution_count": null,
      "outputs": []
    },
    {
      "cell_type": "code",
      "metadata": {},
      "source": [
        "#| label: structural-solution-output\n",
        "#| output: true\n",
        "#| echo: false\n",
        "println(\"The estimated elasticity of demand is\", b1_iv2, \".\")"
      ],
      "id": "structural-solution-output",
      "execution_count": null,
      "outputs": []
    },
    {
      "cell_type": "markdown",
      "metadata": {},
      "source": [
        "For the estimation of bootstrap standard errors, I redefined my supply and demand model as a function and then used the `pmap` function and the `Distributed` library to perform the bootstrapping. \n"
      ],
      "id": "9b41fe7c"
    },
    {
      "cell_type": "code",
      "metadata": {},
      "source": [
        "#| label: bootstrap-std-errors\n",
        "#| eval: false\n",
        "\n",
        "addprocs(4)\n",
        "\n",
        "@everywhere include(\"../problem_set_3_corrected_bootstrap_functions.jl\")\n",
        "\n",
        "B = 10000 # Total number of bootstrap samples\n",
        "\n",
        "beta_samples_pmap = pmap(bootstrap_sample, [df for _ in 1:B])\n",
        "\n",
        "beta_samples_pmap = beta_samples_pmap ./ 0.5\n",
        "\n",
        "std_errors = std(beta_samples_pmap)"
      ],
      "id": "bootstrap-std-errors",
      "execution_count": null,
      "outputs": []
    },
    {
      "cell_type": "markdown",
      "metadata": {},
      "source": [
        "The bootstrap standard error for $\\beta/b$ is 0.14124134. "
      ],
      "id": "ebd28eb9"
    }
  ],
  "metadata": {
    "kernelspec": {
      "name": "julia-1.10",
      "language": "julia",
      "display_name": "Julia 1.10.2"
    }
  },
  "nbformat": 4,
  "nbformat_minor": 5
}